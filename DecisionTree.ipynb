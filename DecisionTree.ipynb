{
 "cells": [
  {
   "cell_type": "code",
   "execution_count": 1,
   "metadata": {},
   "outputs": [],
   "source": [
    "import numpy as np\n",
    "import pandas as pd\n",
    "from sklearn.tree import DecisionTreeRegressor, export_graphviz\n",
    "from sklearn.model_selection import GridSearchCV, cross_val_score"
   ]
  },
  {
   "cell_type": "code",
   "execution_count": 2,
   "metadata": {},
   "outputs": [
    {
     "name": "stdout",
     "output_type": "stream",
     "text": [
      "     X1  X2  X3\n",
      "0     2   3   5\n",
      "1     2   4   7\n",
      "2     3   2   5\n",
      "3     5   6   3\n",
      "4     2   1   1\n",
      "..   ..  ..  ..\n",
      "995   4   4   2\n",
      "996   3   1   1\n",
      "997   2   2   2\n",
      "998   1   2   1\n",
      "999   2   2   3\n",
      "\n",
      "[1000 rows x 3 columns] 0       0\n",
      "1       1\n",
      "2       0\n",
      "3       0\n",
      "4       0\n",
      "       ..\n",
      "995    84\n",
      "996     1\n",
      "997     1\n",
      "998     1\n",
      "999    22\n",
      "Name: Y, Length: 1000, dtype: int64\n"
     ]
    }
   ],
   "source": [
    "data = pd.read_csv(\"test_sample.csv\")\n",
    "\n",
    "X = data.iloc[:,1:]\n",
    "Y = data.iloc[:,0]\n",
    "\n",
    "print(X,Y)"
   ]
  },
  {
   "cell_type": "code",
   "execution_count": 3,
   "metadata": {},
   "outputs": [
    {
     "name": "stdout",
     "output_type": "stream",
     "text": [
      "Best: 134.704795 using {'ccp_alpha': 0.1}\n",
      "138.402769 with: {'ccp_alpha': 0.01}\n",
      "137.904039 with: {'ccp_alpha': 0.020000000000000004}\n",
      "137.144719 with: {'ccp_alpha': 0.030000000000000006}\n",
      "137.289042 with: {'ccp_alpha': 0.04000000000000001}\n",
      "136.763107 with: {'ccp_alpha': 0.05000000000000001}\n",
      "136.933041 with: {'ccp_alpha': 0.06000000000000001}\n",
      "135.766877 with: {'ccp_alpha': 0.07}\n",
      "136.638755 with: {'ccp_alpha': 0.08}\n",
      "135.878245 with: {'ccp_alpha': 0.09000000000000001}\n",
      "134.704795 with: {'ccp_alpha': 0.1}\n"
     ]
    }
   ],
   "source": [
    "regr = DecisionTreeRegressor(random_state = 0)\n",
    "\n",
    "parameter_space = {'ccp_alpha': np.linspace(0.01,0.1,10)}\n",
    "\n",
    "# We set negative MSE as scoring function since GridSearchCV maximizes scoring. \n",
    "grid_search = GridSearchCV(regr, parameter_space ,cv=10, \n",
    "                           scoring = 'neg_mean_squared_error')\n",
    "grid_result = grid_search.fit(X, Y)\n",
    "# summarize results\n",
    "print(\"Best: %f using %s\" % (-grid_result.best_score_, grid_result.best_params_))\n",
    "means = grid_result.cv_results_['mean_test_score']  \n",
    "params = grid_result.cv_results_['params']\n",
    "for mean, param in zip(means, params):\n",
    "    print(\"%f with: %r\" % (-mean, param)) # recall that mean is negative MSE"
   ]
  },
  {
   "cell_type": "code",
   "execution_count": 4,
   "metadata": {},
   "outputs": [
    {
     "data": {
      "text/plain": [
       "DecisionTreeRegressor(ccp_alpha=0.1, random_state=0)"
      ]
     },
     "execution_count": 4,
     "metadata": {},
     "output_type": "execute_result"
    }
   ],
   "source": [
    "best_ccp_alpha = grid_result.best_params_['ccp_alpha']\n",
    "\n",
    "regr_2 = DecisionTreeRegressor(random_state = 0, ccp_alpha = best_ccp_alpha)\n",
    "\n",
    "regr_2.fit(X,Y)\n"
   ]
  },
  {
   "cell_type": "code",
   "execution_count": 5,
   "metadata": {},
   "outputs": [],
   "source": [
    "residuals = pd.Series(regr_2.predict(X)-Y)\n",
    "#residuals.hist(bins=15)"
   ]
  },
  {
   "cell_type": "code",
   "execution_count": 6,
   "metadata": {},
   "outputs": [
    {
     "name": "stdout",
     "output_type": "stream",
     "text": [
      "MSE =  62.26084112954516\n"
     ]
    }
   ],
   "source": [
    "print('MSE = ', np.mean(residuals**2))"
   ]
  },
  {
   "cell_type": "code",
   "execution_count": 7,
   "metadata": {},
   "outputs": [
    {
     "name": "stdout",
     "output_type": "stream",
     "text": [
      "1. Optimal ccp_alpha =  0.1\n",
      "2. MSE =  62.26084112954516\n"
     ]
    }
   ],
   "source": [
    "\n",
    "print('1. Optimal ccp_alpha = ', best_ccp_alpha)\n",
    "\n",
    "\n",
    "print('2. MSE = ', np.mean(residuals**2))"
   ]
  },
  {
   "cell_type": "code",
   "execution_count": null,
   "metadata": {},
   "outputs": [],
   "source": []
  }
 ],
 "metadata": {
  "kernelspec": {
   "display_name": "Python 3 (ipykernel)",
   "language": "python",
   "name": "python3"
  },
  "language_info": {
   "codemirror_mode": {
    "name": "ipython",
    "version": 3
   },
   "file_extension": ".py",
   "mimetype": "text/x-python",
   "name": "python",
   "nbconvert_exporter": "python",
   "pygments_lexer": "ipython3",
   "version": "3.9.12"
  }
 },
 "nbformat": 4,
 "nbformat_minor": 4
}
